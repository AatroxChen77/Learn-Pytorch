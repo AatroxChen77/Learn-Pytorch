{
 "cells": [
  {
   "metadata": {},
   "cell_type": "markdown",
   "source": "# forward",
   "id": "492e8daa0f6e2a9f"
  },
  {
   "cell_type": "code",
   "id": "initial_id",
   "metadata": {
    "collapsed": true,
    "ExecuteTime": {
     "end_time": "2025-08-16T07:47:16.620920Z",
     "start_time": "2025-08-16T07:47:16.618328Z"
    }
   },
   "source": [
    "from torch import nn\n",
    "import torch\n",
    "from torch.utils.tensorboard import SummaryWriter\n",
    "\n",
    "\n",
    "class MyNet(nn.Module):\n",
    "    def __init__(self):\n",
    "        super().__init__()\n",
    "        self.relu1 = nn.ReLU()\n",
    "\n",
    "    def forward(self, x):\n",
    "        return self.relu1(x)"
   ],
   "outputs": [],
   "execution_count": 49
  },
  {
   "metadata": {
    "ExecuteTime": {
     "end_time": "2025-08-16T07:47:17.928532Z",
     "start_time": "2025-08-16T07:47:17.924888Z"
    }
   },
   "cell_type": "code",
   "source": [
    "net = MyNet()\n",
    "x = torch.tensor(1.0)\n",
    "y = net(x) # forward\n",
    "print(y)"
   ],
   "id": "d306ae5ad53d4294",
   "outputs": [
    {
     "name": "stdout",
     "output_type": "stream",
     "text": [
      "tensor(1.)\n"
     ]
    }
   ],
   "execution_count": 50
  },
  {
   "metadata": {},
   "cell_type": "markdown",
   "source": "# Reshape",
   "id": "5d18f4bb15f44620"
  },
  {
   "metadata": {
    "ExecuteTime": {
     "end_time": "2025-08-16T12:42:53.409197Z",
     "start_time": "2025-08-16T12:42:52.154331Z"
    }
   },
   "cell_type": "code",
   "source": [
    "import torch\n",
    "input = torch.tensor([\n",
    "    [1 , -0.5],\n",
    "    [-1 , 3],\n",
    "    [3, 0.5]\n",
    "])\n",
    "print(input)"
   ],
   "id": "9e4ba18e1134caf5",
   "outputs": [
    {
     "name": "stdout",
     "output_type": "stream",
     "text": [
      "tensor([[ 1.0000, -0.5000],\n",
      "        [-1.0000,  3.0000],\n",
      "        [ 3.0000,  0.5000]])\n"
     ]
    }
   ],
   "execution_count": 1
  },
  {
   "metadata": {},
   "cell_type": "markdown",
   "source": "### (-1,) 和 (1,-1)的区别",
   "id": "a0e0c0fc86f8e57b"
  },
  {
   "metadata": {
    "ExecuteTime": {
     "end_time": "2025-08-16T07:29:27.789417Z",
     "start_time": "2025-08-16T07:29:27.785764Z"
    }
   },
   "cell_type": "code",
   "source": [
    "input_reshape_vector = input.reshape(-1,)\n",
    "print(input_reshape_vector)"
   ],
   "id": "996cb1de307f1751",
   "outputs": [
    {
     "name": "stdout",
     "output_type": "stream",
     "text": [
      "tensor([ 1.0000, -0.5000, -1.0000,  3.0000,  3.0000,  0.5000])\n"
     ]
    }
   ],
   "execution_count": 40
  },
  {
   "metadata": {
    "ExecuteTime": {
     "end_time": "2025-08-16T07:29:53.709214Z",
     "start_time": "2025-08-16T07:29:53.705383Z"
    }
   },
   "cell_type": "code",
   "source": [
    "input_reshape_matrix = input.reshape(1,-1)\n",
    "print(input_reshape_matrix)"
   ],
   "id": "d3c6216f865a7e6a",
   "outputs": [
    {
     "name": "stdout",
     "output_type": "stream",
     "text": [
      "tensor([[ 1.0000, -0.5000, -1.0000,  3.0000,  3.0000,  0.5000]])\n"
     ]
    }
   ],
   "execution_count": 41
  },
  {
   "metadata": {},
   "cell_type": "markdown",
   "source": "# 展平的所有操作",
   "id": "c60a7d9b601d7fcc"
  },
  {
   "metadata": {
    "ExecuteTime": {
     "end_time": "2025-08-16T13:30:36.647606Z",
     "start_time": "2025-08-16T13:30:36.642145Z"
    }
   },
   "cell_type": "code",
   "source": [
    "import torch\n",
    "input = torch.randn(64,3,32,32)\n",
    "print(input.shape)"
   ],
   "id": "245d6fd7edf0bdcc",
   "outputs": [
    {
     "name": "stdout",
     "output_type": "stream",
     "text": [
      "torch.Size([64, 3, 32, 32])\n"
     ]
    }
   ],
   "execution_count": 49
  },
  {
   "metadata": {},
   "cell_type": "markdown",
   "source": "展成向量",
   "id": "7b6320f66436e025"
  },
  {
   "metadata": {
    "ExecuteTime": {
     "end_time": "2025-08-16T13:30:37.724813Z",
     "start_time": "2025-08-16T13:30:37.721088Z"
    }
   },
   "cell_type": "code",
   "source": [
    "output_flt_1 = input.reshape(-1,)\n",
    "print(output_flt_1.shape)"
   ],
   "id": "88f19257af0fa2b",
   "outputs": [
    {
     "name": "stdout",
     "output_type": "stream",
     "text": [
      "torch.Size([196608])\n"
     ]
    }
   ],
   "execution_count": 50
  },
  {
   "metadata": {
    "ExecuteTime": {
     "end_time": "2025-08-16T13:30:38.867360Z",
     "start_time": "2025-08-16T13:30:38.863936Z"
    }
   },
   "cell_type": "code",
   "source": [
    "output_flt_2 = torch.flatten(input, 0)\n",
    "print(output_flt_2.shape)"
   ],
   "id": "7dc728231033578",
   "outputs": [
    {
     "name": "stdout",
     "output_type": "stream",
     "text": [
      "torch.Size([196608])\n"
     ]
    }
   ],
   "execution_count": 51
  },
  {
   "metadata": {},
   "cell_type": "markdown",
   "source": "展成batch_size个向量",
   "id": "a3ee5d8199dc60bd"
  },
  {
   "metadata": {
    "ExecuteTime": {
     "end_time": "2025-08-16T13:30:39.915294Z",
     "start_time": "2025-08-16T13:30:39.912303Z"
    }
   },
   "cell_type": "code",
   "source": [
    "output_flt_3 = input.reshape(input.size(dim=0), -1)\n",
    "print(output_flt_3.shape)"
   ],
   "id": "d63956d865b49d35",
   "outputs": [
    {
     "name": "stdout",
     "output_type": "stream",
     "text": [
      "torch.Size([64, 3072])\n"
     ]
    }
   ],
   "execution_count": 52
  },
  {
   "metadata": {
    "ExecuteTime": {
     "end_time": "2025-08-16T13:30:40.845153Z",
     "start_time": "2025-08-16T13:30:40.841858Z"
    }
   },
   "cell_type": "code",
   "source": [
    "output_flt_4 = torch.flatten(input,start_dim=1)\n",
    "print(output_flt_3.shape)"
   ],
   "id": "f9f0c257ae812e54",
   "outputs": [
    {
     "name": "stdout",
     "output_type": "stream",
     "text": [
      "torch.Size([64, 3072])\n"
     ]
    }
   ],
   "execution_count": 53
  },
  {
   "metadata": {
    "ExecuteTime": {
     "end_time": "2025-08-16T13:30:42.035119Z",
     "start_time": "2025-08-16T13:30:42.031685Z"
    }
   },
   "cell_type": "code",
   "source": [
    "output_flt_5 = nn.Flatten()(input) # 默认从第一维开始展平\n",
    "print(output_flt_3.shape)"
   ],
   "id": "79d625d793f5837c",
   "outputs": [
    {
     "name": "stdout",
     "output_type": "stream",
     "text": [
      "torch.Size([64, 3072])\n"
     ]
    }
   ],
   "execution_count": 54
  },
  {
   "metadata": {},
   "cell_type": "markdown",
   "source": "# ReLU",
   "id": "570e74c2251752a0"
  },
  {
   "metadata": {},
   "cell_type": "code",
   "outputs": [],
   "execution_count": null,
   "source": [
    "from torch import nn\n",
    "import torch\n",
    "from torch.nn import ReLU\n",
    "\n",
    "class MyNet(nn.Module):\n",
    "    def __init__(self):\n",
    "        super().__init__()\n",
    "        self.fc1 = nn.Linear(2, 2)\n",
    "        self.relu1 = nn.ReLU()\n",
    "        self.bn1 = nn.BatchNorm1d(num_features=1)\n",
    "        self.relu2 = nn.ReLU()\n",
    "        self.bn2 = nn.BatchNorm1d(num_features=1)\n",
    "        self.encoder = nn.Sequential(\n",
    "            self.relu1,\n",
    "            self.bn1,\n",
    "            self.relu2,\n",
    "            self.bn2\n",
    "        )\n",
    "\n",
    "    def forward(self, x):\n",
    "        return self.relu1(x)"
   ],
   "id": "c227cd42ae7deaa3"
  },
  {
   "metadata": {
    "ExecuteTime": {
     "end_time": "2025-08-16T07:47:23.997584Z",
     "start_time": "2025-08-16T07:47:23.993827Z"
    }
   },
   "cell_type": "code",
   "source": [
    "output = net(input)\n",
    "print(output)\n"
   ],
   "id": "b74b60cbdf268dde",
   "outputs": [
    {
     "name": "stdout",
     "output_type": "stream",
     "text": [
      "tensor([[1.0000, 0.0000],\n",
      "        [0.0000, 3.0000],\n",
      "        [3.0000, 0.5000]])\n"
     ]
    }
   ],
   "execution_count": 52
  },
  {
   "metadata": {},
   "cell_type": "markdown",
   "source": "# Model",
   "id": "a52d7e58c832dc50"
  },
  {
   "metadata": {
    "ExecuteTime": {
     "end_time": "2025-08-16T13:11:59.611726Z",
     "start_time": "2025-08-16T13:11:59.608278Z"
    }
   },
   "cell_type": "code",
   "source": [
    "import torch\n",
    "from torch import nn"
   ],
   "id": "e1cc43cd41d06186",
   "outputs": [],
   "execution_count": 11
  },
  {
   "metadata": {
    "ExecuteTime": {
     "end_time": "2025-08-16T13:37:14.938878Z",
     "start_time": "2025-08-16T13:37:14.934284Z"
    }
   },
   "cell_type": "code",
   "source": [
    "class MyCNNModel(nn.Module):\n",
    "    def __init__(self):\n",
    "        super().__init__()\n",
    "        self.CNN = nn.Sequential(\n",
    "            nn.Conv2d(3,32,5,padding=2),\n",
    "            nn.MaxPool2d(2),\n",
    "            nn.Conv2d(32,32,5,padding=2),\n",
    "            nn.MaxPool2d(2),\n",
    "            nn.Conv2d(32,64,5,padding=2),\n",
    "            nn.MaxPool2d(2)\n",
    "        )\n",
    "        self.flatten = nn.Flatten()\n",
    "        self.fc1 = nn.Linear(1024,64)\n",
    "        self.fc2 = nn.Linear(64,2)\n",
    "    def forward(self, x):\n",
    "        x = self.CNN(x)\n",
    "        x = self.flatten(x)\n",
    "        x = self.fc1(x)\n",
    "        x = self.fc2(x)\n",
    "        return x"
   ],
   "id": "f30b8540e238ea99",
   "outputs": [],
   "execution_count": 63
  },
  {
   "metadata": {
    "ExecuteTime": {
     "end_time": "2025-08-16T13:37:15.703655Z",
     "start_time": "2025-08-16T13:37:15.685723Z"
    }
   },
   "cell_type": "code",
   "source": [
    "batch_data = torch.randn(64,3,32,32)\n",
    "model = MyCNNModel()\n",
    "output = model(batch_data)\n",
    "print(output.shape)\n",
    "print(model)"
   ],
   "id": "80ca0a44be1baa8e",
   "outputs": [
    {
     "name": "stdout",
     "output_type": "stream",
     "text": [
      "torch.Size([64, 2])\n",
      "MyCNNModel(\n",
      "  (CNN): Sequential(\n",
      "    (0): Conv2d(3, 32, kernel_size=(5, 5), stride=(1, 1), padding=(2, 2))\n",
      "    (1): MaxPool2d(kernel_size=2, stride=2, padding=0, dilation=1, ceil_mode=False)\n",
      "    (2): Conv2d(32, 32, kernel_size=(5, 5), stride=(1, 1), padding=(2, 2))\n",
      "    (3): MaxPool2d(kernel_size=2, stride=2, padding=0, dilation=1, ceil_mode=False)\n",
      "    (4): Conv2d(32, 64, kernel_size=(5, 5), stride=(1, 1), padding=(2, 2))\n",
      "    (5): MaxPool2d(kernel_size=2, stride=2, padding=0, dilation=1, ceil_mode=False)\n",
      "  )\n",
      "  (flatten): Flatten(start_dim=1, end_dim=-1)\n",
      "  (fc1): Linear(in_features=1024, out_features=64, bias=True)\n",
      "  (fc2): Linear(in_features=64, out_features=2, bias=True)\n",
      ")\n"
     ]
    }
   ],
   "execution_count": 64
  },
  {
   "metadata": {
    "ExecuteTime": {
     "end_time": "2025-08-16T13:39:03.635501Z",
     "start_time": "2025-08-16T13:39:03.379474Z"
    }
   },
   "cell_type": "code",
   "source": [
    "from torch.utils.tensorboard import SummaryWriter\n",
    "writer = SummaryWriter(\"../experiments/logs/myCNNmodel\")\n",
    "writer.add_graph(model, batch_data)\n",
    "writer.close()"
   ],
   "id": "40dcc821381cc350",
   "outputs": [],
   "execution_count": 66
  }
 ],
 "metadata": {
  "kernelspec": {
   "display_name": "Python 3",
   "language": "python",
   "name": "python3"
  },
  "language_info": {
   "codemirror_mode": {
    "name": "ipython",
    "version": 2
   },
   "file_extension": ".py",
   "mimetype": "text/x-python",
   "name": "python",
   "nbconvert_exporter": "python",
   "pygments_lexer": "ipython2",
   "version": "2.7.6"
  }
 },
 "nbformat": 4,
 "nbformat_minor": 5
}
