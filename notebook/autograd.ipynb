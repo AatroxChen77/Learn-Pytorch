{
 "cells": [
  {
   "metadata": {},
   "cell_type": "markdown",
   "source": "This notebook helps you understand the working principle of **Autograd**",
   "id": "b39b0ad1e6bd8287"
  },
  {
   "metadata": {},
   "cell_type": "markdown",
   "source": "requires_grad – If autograd should record operations on the returned tensor. Default: False.",
   "id": "8864f35b750b7f5c"
  },
  {
   "metadata": {
    "collapsed": true,
    "ExecuteTime": {
     "end_time": "2025-08-20T15:00:06.970458Z",
     "start_time": "2025-08-20T15:00:06.964063Z"
    }
   },
   "cell_type": "code",
   "source": [
    "import torch\n",
    "\n",
    "# 示例：简单的自动微分\n",
    "w1 = torch.tensor(2.0, requires_grad=True) # imaging w is a parameter in a model\n",
    "loss1 = w1 ** 2 + 3 * w1 + 1 # then, somehow we get the loss. Apparently, loss is related to w\n",
    "loss1.backward() # calculate : loss关于w的梯度, 即 backward\n",
    "\n",
    "w2 = torch.tensor(3.0, requires_grad=True) # imaging w is a parameter in a model\n",
    "loss2 = w2 ** 2 + 3 * w2 + 1 # then, somehow we get the loss. Apparently, loss is related to w\n",
    "loss2.backward() # calculate : loss关于w的梯度, 即 backward\n",
    "\n",
    "# 打印梯度\n",
    "print(w1.grad)  # 输出应为 2*x + 3 在 x=2 时的值，即 7\n",
    "print(w2.grad)\n"
   ],
   "id": "initial_id",
   "outputs": [
    {
     "name": "stdout",
     "output_type": "stream",
     "text": [
      "tensor(7.)\n",
      "tensor(9.)\n"
     ]
    }
   ],
   "execution_count": 15
  },
  {
   "metadata": {
    "ExecuteTime": {
     "end_time": "2025-08-20T13:42:58.529263Z",
     "start_time": "2025-08-20T13:42:58.523272Z"
    }
   },
   "cell_type": "code",
   "source": [
    "# 示例：线性回归中的梯度计算\n",
    "input = torch.tensor([1.0])\n",
    "target = torch.tensor([2.0])\n",
    "\n",
    "# 模型参数\n",
    "weight = torch.tensor([1.0], requires_grad=True)\n",
    "\n",
    "# 前向传播\n",
    "def forward(input):\n",
    "    return input * weight\n",
    "\n",
    "# 损失函数\n",
    "def loss(input, target):\n",
    "    prediction = forward(input)\n",
    "    return (prediction - target) ** 2\n",
    "\n",
    "# 计算梯度\n",
    "l = loss(input, target)\n",
    "l.backward()\n",
    "\n",
    "print(weight.grad)  # 打印梯度\n"
   ],
   "id": "1008e259dbe96f04",
   "outputs": [
    {
     "name": "stdout",
     "output_type": "stream",
     "text": [
      "tensor([-2.])\n"
     ]
    }
   ],
   "execution_count": 13
  },
  {
   "metadata": {},
   "cell_type": "markdown",
   "source": "这里的 y 是通过一个乘法操作得到的。PyTorch 会自动跟踪这个操作，并将其作为计算图的一部分。",
   "id": "bdd20a151dcae25a"
  },
  {
   "metadata": {
    "ExecuteTime": {
     "end_time": "2025-08-20T13:49:22.321529Z",
     "start_time": "2025-08-20T13:49:22.317192Z"
    }
   },
   "cell_type": "code",
   "outputs": [
    {
     "name": "stdout",
     "output_type": "stream",
     "text": [
      "<MulBackward0 object at 0x0000024674223B50>\n"
     ]
    }
   ],
   "execution_count": 14,
   "source": [
    "import torch\n",
    "\n",
    "# 创建一个 Tensor，设置 requires_grad=True 来跟踪与它相关的操作\n",
    "x = torch.tensor([2.0], requires_grad=True)\n",
    "\n",
    "# 执行一个操作\n",
    "y = x * x\n",
    "\n",
    "# 查看 y 的 grad_fn 属性\n",
    "print(y.grad_fn)  # 这显示了 y 是通过哪种操作得到的\n"
   ],
   "id": "6bd91848344dfeaa"
  }
 ],
 "metadata": {
  "kernelspec": {
   "display_name": "Python 3",
   "language": "python",
   "name": "python3"
  },
  "language_info": {
   "codemirror_mode": {
    "name": "ipython",
    "version": 2
   },
   "file_extension": ".py",
   "mimetype": "text/x-python",
   "name": "python",
   "nbconvert_exporter": "python",
   "pygments_lexer": "ipython2",
   "version": "2.7.6"
  }
 },
 "nbformat": 4,
 "nbformat_minor": 5
}
