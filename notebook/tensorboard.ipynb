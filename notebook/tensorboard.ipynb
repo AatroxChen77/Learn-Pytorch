{
 "cells": [
  {
   "cell_type": "markdown",
   "id": "9dc9faca1581ff6e",
   "metadata": {},
   "source": [
    "# 草稿"
   ]
  },
  {
   "cell_type": "code",
   "execution_count": 15,
   "id": "initial_id",
   "metadata": {
    "ExecuteTime": {
     "end_time": "2025-08-15T09:00:09.952349Z",
     "start_time": "2025-08-15T09:00:09.950018Z"
    },
    "collapsed": true
   },
   "outputs": [],
   "source": [
    "from torch.utils.tensorboard import SummaryWriter"
   ]
  },
  {
   "cell_type": "code",
   "execution_count": 16,
   "id": "7c87f5a96d6582e2",
   "metadata": {
    "ExecuteTime": {
     "end_time": "2025-08-15T09:00:10.705792Z",
     "start_time": "2025-08-15T09:00:10.685138Z"
    }
   },
   "outputs": [],
   "source": [
    "writer = SummaryWriter(\"../experiments/logs\")\n",
    "x = range(100)\n",
    "for i in x:\n",
    "    writer.add_scalar('y=2x', i * 2, i)\n",
    "writer.close()"
   ]
  },
  {
   "cell_type": "code",
   "execution_count": 8,
   "id": "409ae87fdc22f85f",
   "metadata": {
    "ExecuteTime": {
     "end_time": "2025-08-15T09:31:54.350574Z",
     "start_time": "2025-08-15T09:31:53.107082Z"
    }
   },
   "outputs": [],
   "source": [
    "import numpy as np\n",
    "from PIL import Image\n",
    "from torch.utils.tensorboard import SummaryWriter\n",
    "writer = SummaryWriter(\"../experiments/logs\")"
   ]
  },
  {
   "cell_type": "code",
   "execution_count": 9,
   "id": "ab97f8683b20c8a",
   "metadata": {
    "ExecuteTime": {
     "end_time": "2025-08-15T09:31:55.310911Z",
     "start_time": "2025-08-15T09:31:55.305584Z"
    }
   },
   "outputs": [],
   "source": [
    "image_path = \"../data/hymenoptera_data/train/ants/154124431_65460430f2.jpg\"\n",
    "image = Image.open(image_path)\n",
    "image_array = np.array(image)"
   ]
  },
  {
   "cell_type": "code",
   "execution_count": 10,
   "id": "5220bda432c36c4d",
   "metadata": {
    "ExecuteTime": {
     "end_time": "2025-08-15T09:31:56.274441Z",
     "start_time": "2025-08-15T09:31:56.270355Z"
    }
   },
   "outputs": [
    {
     "name": "stdout",
     "output_type": "stream",
     "text": [
      "<class 'numpy.ndarray'>\n",
      "(496, 343, 3)\n"
     ]
    }
   ],
   "source": [
    "print(type(image_array))\n",
    "print(image_array.shape)"
   ]
  },
  {
   "cell_type": "code",
   "execution_count": 12,
   "id": "ab4ab2115e1c6880",
   "metadata": {
    "ExecuteTime": {
     "end_time": "2025-08-15T09:33:22.940685Z",
     "start_time": "2025-08-15T09:33:22.870882Z"
    }
   },
   "outputs": [],
   "source": [
    "writer.add_image(\"img_test\", image_array, 1, dataformats='HWC')\n",
    "writer.close()"
   ]
  },
  {
   "cell_type": "markdown",
   "id": "48832b7996c93492",
   "metadata": {},
   "source": [
    "# TensorBoard 使用步骤"
   ]
  },
  {
   "cell_type": "markdown",
   "id": "e60a4b2d4246ec7f",
   "metadata": {},
   "source": [
    "### 导入并创建记录器"
   ]
  },
  {
   "cell_type": "code",
   "execution_count": null,
   "id": "420db8ed0ae83527",
   "metadata": {},
   "outputs": [],
   "source": [
    "from torch.utils.tensorboard import SummaryWriter\n",
    "writer = SummaryWriter(log_dir=\"logs/exp1\")  # 日志保存路径"
   ]
  },
  {
   "cell_type": "markdown",
   "id": "be12ca7288fefefe",
   "metadata": {},
   "source": [
    "### 在训练过程中写入数据"
   ]
  },
  {
   "cell_type": "code",
   "execution_count": null,
   "id": "adca12999d12b347",
   "metadata": {},
   "outputs": [],
   "source": [
    "# 标量（loss、accuracy）\n",
    "writer.add_scalar(\"Loss/train\", loss, step)\n",
    "\n",
    "# 图像\n",
    "writer.add_image(\"Input\", img_tensor, step)\n",
    "\n",
    "# 模型计算图\n",
    "writer.add_graph(model, input_tensor)\n",
    "\n",
    "# 直方图（权重分布）\n",
    "writer.add_histogram(\"fc1_weights\", model.fc1.weight, step)\n"
   ]
  },
  {
   "cell_type": "markdown",
   "id": "3ca4e7db3053bf93",
   "metadata": {},
   "source": [
    "### 关闭记录器"
   ]
  },
  {
   "cell_type": "code",
   "execution_count": null,
   "id": "9e5dcbf6695c13b",
   "metadata": {},
   "outputs": [],
   "source": [
    "writer.close()"
   ]
  },
  {
   "cell_type": "markdown",
   "id": "c6475b93e65aca2e",
   "metadata": {},
   "source": [
    "### 启动 TensorBoard\n",
    "\n",
    "在终端运行：\n",
    "\n",
    "```\n",
    "tensorboard --logdir=logs --port=6006\n",
    "```\n",
    "\n",
    "然后访问：\n",
    "\n",
    "```\n",
    "http://localhost:6006\n",
    "```"
   ]
  },
  {
   "cell_type": "markdown",
   "id": "4d5952d491bf5356",
   "metadata": {},
   "source": [
    "# TensorBoard 中查看 模型结构\n",
    "\n",
    "TensorBoard 中查看 模型结构，你可以使用 `add_graph` 方法，它可以将模型的计算图（graph）记录下来，并在 TensorBoard 中可视化。下面是一个简单的示例：\n",
    "\n",
    "\n",
    "\n"
   ]
  },
  {
   "cell_type": "markdown",
   "id": "dfff69ec5ef6eb0",
   "metadata": {},
   "source": [
    "### 步骤：\n",
    "\n",
    "1. 创建一个简单的模型\n",
    "2. 使用 `add_graph` 记录模型计算图\n",
    "3. 启动 TensorBoard 查看模型结构"
   ]
  },
  {
   "cell_type": "markdown",
   "id": "26efddec532376e3",
   "metadata": {},
   "source": [
    "### **示例代码：**"
   ]
  },
  {
   "cell_type": "code",
   "execution_count": 2,
   "id": "f99595a3690deab8",
   "metadata": {
    "ExecuteTime": {
     "end_time": "2025-08-15T12:20:15.614046Z",
     "start_time": "2025-08-15T12:20:15.594114Z"
    }
   },
   "outputs": [],
   "source": [
    "import torch\n",
    "import torch.nn as nn\n",
    "from torch.utils.tensorboard import SummaryWriter\n",
    "\n",
    "# 创建一个简单的模型\n",
    "class SimpleModel(nn.Module):\n",
    "    def __init__(self):\n",
    "        super(SimpleModel, self).__init__()\n",
    "        self.fc1 = nn.Linear(10, 20)\n",
    "        self.fc2 = nn.Linear(20, 1)\n",
    "\n",
    "    def forward(self, x):\n",
    "        x = torch.relu(self.fc1(x))\n",
    "        x = self.fc2(x)\n",
    "        return x\n",
    "\n",
    "# 初始化模型和 TensorBoard writer\n",
    "model = SimpleModel()\n",
    "writer = SummaryWriter(log_dir=\"../experiments/logs/tensorboard_graph_example\")\n",
    "\n",
    "# 输入一个假数据，记录计算图\n",
    "dummy_input = torch.randn(1, 10)  # 假设输入是 10 维的向量\n",
    "writer.add_graph(model, dummy_input)\n",
    "\n",
    "# 关闭 writer\n",
    "writer.close()\n"
   ]
  }
 ],
 "metadata": {
  "kernelspec": {
   "display_name": "tahoe-cvae",
   "language": "python",
   "name": "python3"
  },
  "language_info": {
   "codemirror_mode": {
    "name": "ipython",
    "version": 3
   },
   "file_extension": ".py",
   "mimetype": "text/x-python",
   "name": "python",
   "nbconvert_exporter": "python",
   "pygments_lexer": "ipython3",
   "version": "3.11.13"
  }
 },
 "nbformat": 4,
 "nbformat_minor": 5
}
