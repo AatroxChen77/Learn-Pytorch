{
 "cells": [
  {
   "metadata": {},
   "cell_type": "markdown",
   "source": "# 草稿",
   "id": "9dc9faca1581ff6e"
  },
  {
   "cell_type": "code",
   "id": "initial_id",
   "metadata": {
    "collapsed": true,
    "ExecuteTime": {
     "end_time": "2025-08-15T09:00:09.952349Z",
     "start_time": "2025-08-15T09:00:09.950018Z"
    }
   },
   "source": [
    "from torch.utils.tensorboard import SummaryWriter"
   ],
   "outputs": [],
   "execution_count": 15
  },
  {
   "metadata": {
    "ExecuteTime": {
     "end_time": "2025-08-15T09:00:10.705792Z",
     "start_time": "2025-08-15T09:00:10.685138Z"
    }
   },
   "cell_type": "code",
   "source": [
    "writer = SummaryWriter(\"../logs\")\n",
    "x = range(100)\n",
    "for i in x:\n",
    "    writer.add_scalar('y=2x', i * 2, i)\n",
    "writer.close()"
   ],
   "id": "7c87f5a96d6582e2",
   "outputs": [],
   "execution_count": 16
  },
  {
   "metadata": {
    "ExecuteTime": {
     "end_time": "2025-08-15T09:31:54.350574Z",
     "start_time": "2025-08-15T09:31:53.107082Z"
    }
   },
   "cell_type": "code",
   "source": [
    "import numpy as np\n",
    "from PIL import Image\n",
    "from torch.utils.tensorboard import SummaryWriter\n",
    "writer = SummaryWriter(\"../logs\")"
   ],
   "id": "409ae87fdc22f85f",
   "outputs": [],
   "execution_count": 8
  },
  {
   "metadata": {
    "ExecuteTime": {
     "end_time": "2025-08-15T09:31:55.310911Z",
     "start_time": "2025-08-15T09:31:55.305584Z"
    }
   },
   "cell_type": "code",
   "source": [
    "image_path = \"../data/hymenoptera_data/train/ants/154124431_65460430f2.jpg\"\n",
    "image = Image.open(image_path)\n",
    "image_array = np.array(image)"
   ],
   "id": "ab97f8683b20c8a",
   "outputs": [],
   "execution_count": 9
  },
  {
   "metadata": {
    "ExecuteTime": {
     "end_time": "2025-08-15T09:31:56.274441Z",
     "start_time": "2025-08-15T09:31:56.270355Z"
    }
   },
   "cell_type": "code",
   "source": [
    "print(type(image_array))\n",
    "print(image_array.shape)"
   ],
   "id": "5220bda432c36c4d",
   "outputs": [
    {
     "name": "stdout",
     "output_type": "stream",
     "text": [
      "<class 'numpy.ndarray'>\n",
      "(496, 343, 3)\n"
     ]
    }
   ],
   "execution_count": 10
  },
  {
   "metadata": {
    "ExecuteTime": {
     "end_time": "2025-08-15T09:33:22.940685Z",
     "start_time": "2025-08-15T09:33:22.870882Z"
    }
   },
   "cell_type": "code",
   "source": [
    "writer.add_image(\"img_test\", image_array, 1, dataformats='HWC')\n",
    "writer.close()"
   ],
   "id": "ab4ab2115e1c6880",
   "outputs": [],
   "execution_count": 12
  },
  {
   "metadata": {},
   "cell_type": "markdown",
   "source": "# TensorBoard 使用步骤",
   "id": "48832b7996c93492"
  },
  {
   "metadata": {},
   "cell_type": "markdown",
   "source": "### 导入并创建记录器",
   "id": "e60a4b2d4246ec7f"
  },
  {
   "metadata": {},
   "cell_type": "code",
   "outputs": [],
   "execution_count": null,
   "source": [
    "from torch.utils.tensorboard import SummaryWriter\n",
    "writer = SummaryWriter(log_dir=\"logs/exp1\")  # 日志保存路径"
   ],
   "id": "420db8ed0ae83527"
  },
  {
   "metadata": {},
   "cell_type": "markdown",
   "source": "### 在训练过程中写入数据",
   "id": "be12ca7288fefefe"
  },
  {
   "metadata": {},
   "cell_type": "code",
   "outputs": [],
   "execution_count": null,
   "source": [
    "# 标量（loss、accuracy）\n",
    "writer.add_scalar(\"Loss/train\", loss, step)\n",
    "\n",
    "# 图像\n",
    "writer.add_image(\"Input\", img_tensor, step)\n",
    "\n",
    "# 模型计算图\n",
    "writer.add_graph(model, input_tensor)\n",
    "\n",
    "# 直方图（权重分布）\n",
    "writer.add_histogram(\"fc1_weights\", model.fc1.weight, step)\n"
   ],
   "id": "adca12999d12b347"
  },
  {
   "metadata": {},
   "cell_type": "markdown",
   "source": "### 关闭记录器",
   "id": "3ca4e7db3053bf93"
  },
  {
   "metadata": {},
   "cell_type": "code",
   "outputs": [],
   "execution_count": null,
   "source": "writer.close()",
   "id": "9e5dcbf6695c13b"
  },
  {
   "metadata": {},
   "cell_type": "markdown",
   "source": [
    "### 启动 TensorBoard\n",
    "\n",
    "在终端运行：\n",
    "\n",
    "```\n",
    "tensorboard --logdir=logs --port=6006\n",
    "```\n",
    "\n",
    "然后访问：\n",
    "\n",
    "```\n",
    "http://localhost:6006\n",
    "```"
   ],
   "id": "c6475b93e65aca2e"
  },
  {
   "metadata": {},
   "cell_type": "markdown",
   "source": [
    "# TensorBoard 中查看 模型结构\n",
    "\n",
    "TensorBoard 中查看 模型结构，你可以使用 `add_graph` 方法，它可以将模型的计算图（graph）记录下来，并在 TensorBoard 中可视化。下面是一个简单的示例：\n",
    "\n",
    "\n",
    "\n"
   ],
   "id": "4d5952d491bf5356"
  },
  {
   "metadata": {},
   "cell_type": "markdown",
   "source": [
    "### 步骤：\n",
    "\n",
    "1. 创建一个简单的模型\n",
    "2. 使用 `add_graph` 记录模型计算图\n",
    "3. 启动 TensorBoard 查看模型结构"
   ],
   "id": "dfff69ec5ef6eb0"
  },
  {
   "metadata": {},
   "cell_type": "markdown",
   "source": "### **示例代码：**",
   "id": "26efddec532376e3"
  },
  {
   "metadata": {
    "ExecuteTime": {
     "end_time": "2025-08-15T12:20:15.614046Z",
     "start_time": "2025-08-15T12:20:15.594114Z"
    }
   },
   "cell_type": "code",
   "source": [
    "import torch\n",
    "import torch.nn as nn\n",
    "from torch.utils.tensorboard import SummaryWriter\n",
    "\n",
    "# 创建一个简单的模型\n",
    "class SimpleModel(nn.Module):\n",
    "    def __init__(self):\n",
    "        super(SimpleModel, self).__init__()\n",
    "        self.fc1 = nn.Linear(10, 20)\n",
    "        self.fc2 = nn.Linear(20, 1)\n",
    "\n",
    "    def forward(self, x):\n",
    "        x = torch.relu(self.fc1(x))\n",
    "        x = self.fc2(x)\n",
    "        return x\n",
    "\n",
    "# 初始化模型和 TensorBoard writer\n",
    "model = SimpleModel()\n",
    "writer = SummaryWriter(log_dir=\"../logs/tensorboard_graph_example\")\n",
    "\n",
    "# 输入一个假数据，记录计算图\n",
    "dummy_input = torch.randn(1, 10)  # 假设输入是 10 维的向量\n",
    "writer.add_graph(model, dummy_input)\n",
    "\n",
    "# 关闭 writer\n",
    "writer.close()\n"
   ],
   "id": "f99595a3690deab8",
   "outputs": [],
   "execution_count": 2
  }
 ],
 "metadata": {
  "kernelspec": {
   "display_name": "tahoe-cvae",
   "language": "python",
   "name": "python3"
  },
  "language_info": {
   "codemirror_mode": {
    "name": "ipython",
    "version": 3
   },
   "file_extension": ".py",
   "mimetype": "text/x-python",
   "name": "python",
   "nbconvert_exporter": "python",
   "pygments_lexer": "ipython3",
   "version": "3.11.13"
  }
 },
 "nbformat": 4,
 "nbformat_minor": 5
}
