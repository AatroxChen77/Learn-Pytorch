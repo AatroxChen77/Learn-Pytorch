{
 "cells": [
  {
   "metadata": {},
   "cell_type": "markdown",
   "source": "# Loss 测试\n",
   "id": "7c94c92daed7e3f9"
  },
  {
   "metadata": {
    "ExecuteTime": {
     "end_time": "2025-08-17T08:32:24.240847Z",
     "start_time": "2025-08-17T08:32:24.234555Z"
    }
   },
   "cell_type": "code",
   "source": [
    "import torch\n",
    "from torch import nn\n",
    "# Example of target with class indices\n",
    "loss = nn.CrossEntropyLoss()\n",
    "input = torch.randn(3, 5, requires_grad=True)\n",
    "target = torch.empty(3, dtype=torch.long).random_(5)\n",
    "print(input)\n",
    "print(target)\n",
    "\n",
    "output = loss(input, target)\n",
    "print(output)\n",
    "output.backward()\n",
    "print(output)"
   ],
   "id": "863d0afd96dc9081",
   "outputs": [
    {
     "name": "stdout",
     "output_type": "stream",
     "text": [
      "tensor([[ 0.2906,  0.7886, -0.8071,  0.6975, -0.4337],\n",
      "        [ 0.8174,  0.0636, -1.0646,  0.6757,  0.4634],\n",
      "        [-1.0926, -0.4392, -1.2230,  0.7750, -0.1133]], requires_grad=True)\n",
      "tensor([1, 1, 3])\n",
      "tensor(1.2372, grad_fn=<NllLossBackward0>)\n",
      "tensor(1.2372, grad_fn=<NllLossBackward0>)\n"
     ]
    }
   ],
   "execution_count": 23
  },
  {
   "metadata": {
    "ExecuteTime": {
     "end_time": "2025-08-17T08:35:43.147130Z",
     "start_time": "2025-08-17T08:35:43.141352Z"
    }
   },
   "cell_type": "code",
   "source": [
    "# Example of target with class probabilities\n",
    "# If containing class probabilities, same shape as the input and each value should be between [0,1]\n",
    "input = torch.randn(3, 5, requires_grad=True)\n",
    "target = torch.randn(3, 5).softmax(dim=1)\n",
    "print(input)\n",
    "print(target)\n",
    "output = loss(input, target)\n",
    "output.backward()\n",
    "print(output)"
   ],
   "id": "d8e800d7b90626ee",
   "outputs": [
    {
     "name": "stdout",
     "output_type": "stream",
     "text": [
      "tensor([[ 1.1117,  0.2177,  0.2326, -1.2596,  0.7871],\n",
      "        [-0.9317,  0.7030,  0.2557,  0.8344, -0.0866],\n",
      "        [-1.0184,  0.4584, -0.3879,  1.5941,  1.2739]], requires_grad=True)\n",
      "tensor([[0.2037, 0.0211, 0.1943, 0.0515, 0.5295],\n",
      "        [0.1375, 0.0930, 0.4348, 0.2061, 0.1286],\n",
      "        [0.0290, 0.1263, 0.1008, 0.6414, 0.1025]])\n",
      "tensor(1.4823, grad_fn=<DivBackward1>)\n"
     ]
    }
   ],
   "execution_count": 24
  },
  {
   "metadata": {},
   "cell_type": "markdown",
   "source": "# 导包",
   "id": "39cc9d16857bce33"
  },
  {
   "cell_type": "code",
   "id": "initial_id",
   "metadata": {
    "collapsed": true,
    "ExecuteTime": {
     "end_time": "2025-08-20T12:21:09.770368Z",
     "start_time": "2025-08-20T12:21:06.196212Z"
    }
   },
   "source": [
    "import torch\n",
    "\n",
    "from src.model import AntBeeClassifier\n",
    "from src.dataset import ClassDirectoryDataset\n",
    "from torch.optim import Adam\n",
    "from torch.utils.data import DataLoader"
   ],
   "outputs": [],
   "execution_count": 1
  },
  {
   "metadata": {},
   "cell_type": "markdown",
   "source": "# 优化器\n",
   "id": "476e8abc3c99f0"
  },
  {
   "metadata": {
    "ExecuteTime": {
     "end_time": "2025-08-20T12:56:11.588338Z",
     "start_time": "2025-08-20T12:56:11.584285Z"
    }
   },
   "cell_type": "code",
   "source": [
    "num_epochs = 3\n",
    "batch_size = 32\n",
    "num_workers = 2\n",
    "device = torch.device(\"cuda\" if torch.cuda.is_available() else \"cpu\")\n",
    "print(f\"Using device: {device}\")"
   ],
   "id": "423adead1415157e",
   "outputs": [
    {
     "name": "stdout",
     "output_type": "stream",
     "text": [
      "Using device: cuda\n"
     ]
    }
   ],
   "execution_count": 7
  },
  {
   "metadata": {},
   "cell_type": "markdown",
   "source": "创建dataset 和 dataloader",
   "id": "27bf32f755324c31"
  },
  {
   "metadata": {
    "ExecuteTime": {
     "end_time": "2025-08-20T12:21:15.381102Z",
     "start_time": "2025-08-20T12:21:15.351280Z"
    }
   },
   "cell_type": "code",
   "source": [
    "myClassDirectoryDataset = ClassDirectoryDataset(\"../data/hymenoptera_data/train\", [\"jpg\"])\n",
    "myDataloader = DataLoader(myClassDirectoryDataset,\n",
    "                          batch_size=batch_size,\n",
    "                          num_workers=num_workers,\n",
    "                          drop_last=False,\n",
    "                          shuffle=True,\n",
    "                          pin_memory=True  # 如果使用GPU，启用此选项加速数据传输\n",
    ")\n",
    "\n",
    "img0, label0 = myClassDirectoryDataset[5]\n",
    "print(\"img0.shape:\", img0.shape)\n",
    "print(\"label0_id:\", label0)\n",
    "print(\"label0:\",myClassDirectoryDataset.classes[label0])"
   ],
   "id": "b58e7489d07395d2",
   "outputs": [
    {
     "name": "stdout",
     "output_type": "stream",
     "text": [
      "img0.shape: torch.Size([3, 224, 224])\n",
      "label0_id: 0\n",
      "label0: ants\n"
     ]
    }
   ],
   "execution_count": 3
  },
  {
   "metadata": {},
   "cell_type": "markdown",
   "source": "创建模型、Optimizer",
   "id": "a223b942a36c42b3"
  },
  {
   "metadata": {
    "ExecuteTime": {
     "end_time": "2025-08-20T12:21:29.851419Z",
     "start_time": "2025-08-20T12:21:29.715064Z"
    }
   },
   "cell_type": "code",
   "source": [
    "model = AntBeeClassifier(dropout_rate=0.2) # 1. build a model\n",
    "model = model.to(device)\n",
    "\n",
    "loss_fn = torch.nn.CrossEntropyLoss() # 2. define the loss\n",
    "optimizer = Adam(model.parameters(), lr=0.001 , weight_decay=1e-4) # 3. do the optimize work\n",
    "# 添加权重衰减防止过拟合"
   ],
   "id": "34c827ee2fe305da",
   "outputs": [],
   "execution_count": 4
  },
  {
   "metadata": {},
   "cell_type": "markdown",
   "source": "train\n",
   "id": "c066f363a5b617a7"
  },
  {
   "metadata": {
    "ExecuteTime": {
     "end_time": "2025-08-20T13:02:01.287877Z",
     "start_time": "2025-08-20T13:01:50.979756Z"
    }
   },
   "cell_type": "code",
   "source": [
    "\n",
    "for epoch in range(num_epochs):\n",
    "    train_loss = 0.0\n",
    "    for inputs, labels in myDataloader:\n",
    "        inputs, labels = inputs.to(device), labels.to(device)\n",
    "        outputs = model(inputs)\n",
    "        loss = loss_fn(outputs, labels) # 计算 交叉熵loss\n",
    "\n",
    "        optimizer.zero_grad()\n",
    "        loss.backward()\n",
    "        optimizer.step()\n",
    "\n",
    "        train_loss += loss.item()\n",
    "    print(train_loss)\n"
   ],
   "id": "a59120a988bd3479",
   "outputs": [
    {
     "name": "stdout",
     "output_type": "stream",
     "text": [
      "3.4908050894737244\n",
      "3.1987371146678925\n",
      "2.9958401322364807\n"
     ]
    }
   ],
   "execution_count": 9
  }
 ],
 "metadata": {
  "kernelspec": {
   "display_name": "Python 3",
   "language": "python",
   "name": "python3"
  },
  "language_info": {
   "codemirror_mode": {
    "name": "ipython",
    "version": 2
   },
   "file_extension": ".py",
   "mimetype": "text/x-python",
   "name": "python",
   "nbconvert_exporter": "python",
   "pygments_lexer": "ipython2",
   "version": "2.7.6"
  }
 },
 "nbformat": 4,
 "nbformat_minor": 5
}
