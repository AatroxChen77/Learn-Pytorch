{
 "cells": [
  {
   "cell_type": "code",
   "id": "initial_id",
   "metadata": {
    "collapsed": true,
    "ExecuteTime": {
     "end_time": "2025-08-22T16:10:21.590423Z",
     "start_time": "2025-08-22T16:10:19.524157Z"
    }
   },
   "source": "import torchvision",
   "outputs": [],
   "execution_count": 1
  },
  {
   "metadata": {
    "ExecuteTime": {
     "end_time": "2025-08-22T16:10:25.646232Z",
     "start_time": "2025-08-22T16:10:25.641910Z"
    }
   },
   "cell_type": "code",
   "source": "print(torchvision.__version__)",
   "id": "17505a815d0ebe47",
   "outputs": [
    {
     "name": "stdout",
     "output_type": "stream",
     "text": [
      "0.20.1+cpu\n"
     ]
    }
   ],
   "execution_count": 4
  },
  {
   "metadata": {
    "ExecuteTime": {
     "end_time": "2025-08-15T17:31:52.090190Z",
     "start_time": "2025-08-15T17:31:52.084697Z"
    }
   },
   "cell_type": "code",
   "source": [
    "class A:\n",
    "    def __init__(self):\n",
    "        print(\"A initialized\")\n",
    "\n",
    "class B(A):\n",
    "    def __init__(self):\n",
    "        super().__init__()\n",
    "        print(\"B initialized\")\n",
    "\n",
    "class C(A):\n",
    "    def __init__(self):\n",
    "        super().__init__()\n",
    "        print(\"C initialized\")\n",
    "\n",
    "class D(B, C):\n",
    "    def __init__(self):\n",
    "        super().__init__() # 必须手动调用父类的初始化函数\n",
    "        print(\"D initialized\")\n",
    "\n",
    "# 创建 D 类的实例\n",
    "d = D()"
   ],
   "id": "bca66759cffa498c",
   "outputs": [
    {
     "name": "stdout",
     "output_type": "stream",
     "text": [
      "A initialized\n",
      "C initialized\n",
      "B initialized\n",
      "D initialized\n"
     ]
    }
   ],
   "execution_count": 3
  },
  {
   "metadata": {},
   "cell_type": "markdown",
   "source": [
    "# 小实验\n",
    "\n",
    "展示 train_loss += loss 和 train_loss += loss.item() 这两种写法最后 train_loss 的类型、显存使用的区别"
   ],
   "id": "b2644fbafb175958"
  },
  {
   "metadata": {
    "ExecuteTime": {
     "end_time": "2025-08-20T13:08:59.880892Z",
     "start_time": "2025-08-20T13:08:58.609448Z"
    }
   },
   "cell_type": "code",
   "source": [
    "import torch\n",
    "import gc\n",
    "\n",
    "# 一个简单的线性模型和数据\n",
    "model = torch.nn.Linear(10, 1)\n",
    "x = torch.randn(32, 10)\n",
    "y = torch.randn(32, 1)\n",
    "loss_fn = torch.nn.MSELoss()\n",
    "\n",
    "# 情况1: 使用 loss 直接累加\n",
    "train_loss_tensor = 0  # Python int\n",
    "for _ in range(5):\n",
    "    out = model(x)\n",
    "    loss = loss_fn(out, y)\n",
    "    train_loss_tensor += loss  # 会变成 Tensor\n",
    "type_tensor_loss = type(train_loss_tensor)\n",
    "is_tensor_requires_grad = getattr(train_loss_tensor, \"requires_grad\", None)\n",
    "\n",
    "# 清理显存\n",
    "del train_loss_tensor, out, loss\n",
    "gc.collect()\n",
    "torch.cuda.empty_cache() if torch.cuda.is_available() else None\n",
    "\n",
    "# 情况2: 使用 loss.item() 累加\n",
    "train_loss_float = 0.0  # Python float\n",
    "for _ in range(5):\n",
    "    out = model(x)\n",
    "    loss = loss_fn(out, y)\n",
    "    train_loss_float += loss.item()  # 纯 float\n",
    "type_float_loss = type(train_loss_float)\n",
    "\n",
    "(type_tensor_loss, is_tensor_requires_grad, type_float_loss)\n"
   ],
   "id": "9082ed65de9777e8",
   "outputs": [
    {
     "data": {
      "text/plain": [
       "(torch.Tensor, True, float)"
      ]
     },
     "execution_count": 1,
     "metadata": {},
     "output_type": "execute_result"
    }
   ],
   "execution_count": 1
  },
  {
   "metadata": {},
   "cell_type": "markdown",
   "source": [
    "📌 **总结**：\n",
    "\n",
    "* `loss`：Tensor，带梯度，累加会“拖着计算图跑”。\n",
    "* `loss.item()`：普通数值，累加安全、轻量，训练日志和统计指标都应该用这个。"
   ],
   "id": "4e42775d68b42a67"
  },
  {
   "metadata": {},
   "cell_type": "markdown",
   "source": "# GPU\n",
   "id": "533cfef5786a9bf6"
  },
  {
   "metadata": {
    "ExecuteTime": {
     "end_time": "2025-08-21T12:35:59.492257Z",
     "start_time": "2025-08-21T12:35:57.183264Z"
    }
   },
   "cell_type": "code",
   "source": "import torch",
   "id": "66f79d51cb7b1de4",
   "outputs": [],
   "execution_count": 1
  },
  {
   "metadata": {
    "ExecuteTime": {
     "end_time": "2025-08-21T12:36:11.926493Z",
     "start_time": "2025-08-21T12:36:11.871056Z"
    }
   },
   "cell_type": "code",
   "source": "print(torch.cuda.is_available())",
   "id": "7b60acaac1ffcf54",
   "outputs": [
    {
     "name": "stdout",
     "output_type": "stream",
     "text": [
      "True\n"
     ]
    }
   ],
   "execution_count": 2
  },
  {
   "metadata": {
    "ExecuteTime": {
     "end_time": "2025-08-21T12:38:16.270464Z",
     "start_time": "2025-08-21T12:38:16.266622Z"
    }
   },
   "cell_type": "code",
   "source": [
    "device = torch.device(\"cuda:0\" if torch.cuda.is_available() else \"cpu\")\n",
    "print(\"Using device:\", device)"
   ],
   "id": "efaa153e019b0864",
   "outputs": [
    {
     "name": "stdout",
     "output_type": "stream",
     "text": [
      "Using device: cuda:0\n"
     ]
    }
   ],
   "execution_count": 3
  },
  {
   "metadata": {},
   "cell_type": "markdown",
   "source": "# random_split",
   "id": "e4d60f82bd9497e8"
  },
  {
   "metadata": {},
   "cell_type": "code",
   "outputs": [],
   "execution_count": null,
   "source": "from torch.utils.data import random_split\n",
   "id": "22be483c28b64ab7"
  },
  {
   "metadata": {},
   "cell_type": "markdown",
   "source": "# max vs. argmax",
   "id": "ab6efde5ea87463c"
  },
  {
   "metadata": {
    "ExecuteTime": {
     "end_time": "2025-08-21T13:56:01.731743Z",
     "start_time": "2025-08-21T13:56:01.726141Z"
    }
   },
   "cell_type": "code",
   "source": [
    "import torch\n",
    "outputs = torch.tensor([[2.5, 1.0, 0.2],\n",
    "                        [0.1, 3.2, 2.7]])\n",
    "\n",
    "# 方法1: max\n",
    "values, indices = outputs.max(1)\n",
    "print(values)   # tensor([2.5, 3.2])\n",
    "print(indices)  # tensor([0, 1])  -> 类别索引\n",
    "\n",
    "# 方法2: argmax\n",
    "predicted = outputs.argmax(1)\n",
    "print(predicted)  # tensor([0, 1])\n"
   ],
   "id": "2bd1f4e76c01a6ce",
   "outputs": [
    {
     "name": "stdout",
     "output_type": "stream",
     "text": [
      "tensor([2.5000, 3.2000])\n",
      "tensor([0, 1])\n",
      "tensor([0, 1])\n"
     ]
    }
   ],
   "execution_count": 5
  },
  {
   "metadata": {
    "ExecuteTime": {
     "end_time": "2025-08-21T14:05:44.042427Z",
     "start_time": "2025-08-21T14:05:44.034240Z"
    }
   },
   "cell_type": "code",
   "source": [
    "import torch\n",
    "\n",
    "# 假设有一批预测结果和真实标签\n",
    "predicted = torch.tensor([0, 2, 1, 3])\n",
    "labels = torch.tensor([0, 1, 1, 3])\n",
    "\n",
    "# 方法1: 使用 ==\n",
    "correct_eq = (predicted == labels).sum().item()\n",
    "\n",
    "# 方法2: 使用 .eq()\n",
    "correct_method = predicted.eq(labels).sum().item()\n",
    "\n",
    "# 输出结果和类型\n",
    "(correct_eq, type(correct_eq), correct_method, type(correct_method))\n"
   ],
   "id": "e06ff909d753ecc2",
   "outputs": [
    {
     "data": {
      "text/plain": [
       "(3, int, 3, int)"
      ]
     },
     "execution_count": 6,
     "metadata": {},
     "output_type": "execute_result"
    }
   ],
   "execution_count": 6
  },
  {
   "metadata": {
    "ExecuteTime": {
     "end_time": "2025-08-21T14:06:09.456662Z",
     "start_time": "2025-08-21T14:06:09.452168Z"
    }
   },
   "cell_type": "code",
   "source": "(predicted == labels)",
   "id": "9d474737afe6ede8",
   "outputs": [
    {
     "data": {
      "text/plain": [
       "tensor([ True, False,  True,  True])"
      ]
     },
     "execution_count": 7,
     "metadata": {},
     "output_type": "execute_result"
    }
   ],
   "execution_count": 7
  },
  {
   "metadata": {
    "ExecuteTime": {
     "end_time": "2025-08-21T14:06:14.863753Z",
     "start_time": "2025-08-21T14:06:14.860331Z"
    }
   },
   "cell_type": "code",
   "source": "predicted.eq(labels)",
   "id": "afc3b1db7d8082e3",
   "outputs": [
    {
     "data": {
      "text/plain": [
       "tensor([ True, False,  True,  True])"
      ]
     },
     "execution_count": 8,
     "metadata": {},
     "output_type": "execute_result"
    }
   ],
   "execution_count": 8
  },
  {
   "metadata": {},
   "cell_type": "markdown",
   "source": "# tqdm",
   "id": "39693a063dff234c"
  },
  {
   "metadata": {},
   "cell_type": "code",
   "outputs": [],
   "execution_count": null,
   "source": "",
   "id": "e88724a2e30ab667"
  },
  {
   "metadata": {},
   "cell_type": "markdown",
   "source": "# 多个字符串字面量直接相邻放在一起",
   "id": "2d6ca9754909d623"
  },
  {
   "metadata": {},
   "cell_type": "markdown",
   "source": "Python 允许多个字符串字面量直接相邻放在一起，Python 会自动把它们拼接成一个字符串。这个特性叫做 implicit string concatenation（隐式字符串拼接）。",
   "id": "5d3300f8a7f58dec"
  },
  {
   "metadata": {},
   "cell_type": "code",
   "outputs": [],
   "execution_count": null,
   "source": [
    "# --- Log ---\n",
    "print(f\"Epoch [{epoch+1}/{num_epochs}] \"f\"Train Loss: {avg_train_loss:.4f}, Train Acc: {train_acc:.4f} | \"f\"Val Loss: {avg_val_loss:.4f}, Val Acc: {val_acc:.4f}\")"
   ],
   "id": "44aba0c98e1a7b54"
  },
  {
   "metadata": {},
   "cell_type": "code",
   "outputs": [],
   "execution_count": null,
   "source": "",
   "id": "114b4825b5855b26"
  }
 ],
 "metadata": {
  "kernelspec": {
   "display_name": "Python 3",
   "language": "python",
   "name": "python3"
  },
  "language_info": {
   "codemirror_mode": {
    "name": "ipython",
    "version": 2
   },
   "file_extension": ".py",
   "mimetype": "text/x-python",
   "name": "python",
   "nbconvert_exporter": "python",
   "pygments_lexer": "ipython2",
   "version": "2.7.6"
  }
 },
 "nbformat": 4,
 "nbformat_minor": 5
}
