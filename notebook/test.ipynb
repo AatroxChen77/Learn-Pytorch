{
 "cells": [
  {
   "cell_type": "code",
   "id": "initial_id",
   "metadata": {
    "collapsed": true,
    "ExecuteTime": {
     "end_time": "2025-08-15T15:39:36.852461Z",
     "start_time": "2025-08-15T15:39:36.023487Z"
    }
   },
   "source": "import torchvision",
   "outputs": [],
   "execution_count": 5
  },
  {
   "metadata": {
    "ExecuteTime": {
     "end_time": "2025-08-15T15:39:37.328107Z",
     "start_time": "2025-08-15T15:39:37.324249Z"
    }
   },
   "cell_type": "code",
   "source": "print(torchvision.__version__)",
   "id": "17505a815d0ebe47",
   "outputs": [
    {
     "name": "stdout",
     "output_type": "stream",
     "text": [
      "0.20.1+cpu\n"
     ]
    }
   ],
   "execution_count": 6
  },
  {
   "metadata": {
    "ExecuteTime": {
     "end_time": "2025-08-15T17:31:52.090190Z",
     "start_time": "2025-08-15T17:31:52.084697Z"
    }
   },
   "cell_type": "code",
   "source": [
    "class A:\n",
    "    def __init__(self):\n",
    "        print(\"A initialized\")\n",
    "\n",
    "class B(A):\n",
    "    def __init__(self):\n",
    "        super().__init__()\n",
    "        print(\"B initialized\")\n",
    "\n",
    "class C(A):\n",
    "    def __init__(self):\n",
    "        super().__init__()\n",
    "        print(\"C initialized\")\n",
    "\n",
    "class D(B, C):\n",
    "    def __init__(self):\n",
    "        super().__init__() # 必须手动调用父类的初始化函数\n",
    "        print(\"D initialized\")\n",
    "\n",
    "# 创建 D 类的实例\n",
    "d = D()"
   ],
   "id": "bca66759cffa498c",
   "outputs": [
    {
     "name": "stdout",
     "output_type": "stream",
     "text": [
      "A initialized\n",
      "C initialized\n",
      "B initialized\n",
      "D initialized\n"
     ]
    }
   ],
   "execution_count": 3
  },
  {
   "metadata": {},
   "cell_type": "markdown",
   "source": [
    "# 小实验\n",
    "\n",
    "展示 train_loss += loss 和 train_loss += loss.item() 这两种写法最后 train_loss 的类型、显存使用的区别"
   ],
   "id": "b2644fbafb175958"
  },
  {
   "metadata": {
    "ExecuteTime": {
     "end_time": "2025-08-20T13:08:59.880892Z",
     "start_time": "2025-08-20T13:08:58.609448Z"
    }
   },
   "cell_type": "code",
   "source": [
    "import torch\n",
    "import gc\n",
    "\n",
    "# 一个简单的线性模型和数据\n",
    "model = torch.nn.Linear(10, 1)\n",
    "x = torch.randn(32, 10)\n",
    "y = torch.randn(32, 1)\n",
    "loss_fn = torch.nn.MSELoss()\n",
    "\n",
    "# 情况1: 使用 loss 直接累加\n",
    "train_loss_tensor = 0  # Python int\n",
    "for _ in range(5):\n",
    "    out = model(x)\n",
    "    loss = loss_fn(out, y)\n",
    "    train_loss_tensor += loss  # 会变成 Tensor\n",
    "type_tensor_loss = type(train_loss_tensor)\n",
    "is_tensor_requires_grad = getattr(train_loss_tensor, \"requires_grad\", None)\n",
    "\n",
    "# 清理显存\n",
    "del train_loss_tensor, out, loss\n",
    "gc.collect()\n",
    "torch.cuda.empty_cache() if torch.cuda.is_available() else None\n",
    "\n",
    "# 情况2: 使用 loss.item() 累加\n",
    "train_loss_float = 0.0  # Python float\n",
    "for _ in range(5):\n",
    "    out = model(x)\n",
    "    loss = loss_fn(out, y)\n",
    "    train_loss_float += loss.item()  # 纯 float\n",
    "type_float_loss = type(train_loss_float)\n",
    "\n",
    "(type_tensor_loss, is_tensor_requires_grad, type_float_loss)\n"
   ],
   "id": "9082ed65de9777e8",
   "outputs": [
    {
     "data": {
      "text/plain": [
       "(torch.Tensor, True, float)"
      ]
     },
     "execution_count": 1,
     "metadata": {},
     "output_type": "execute_result"
    }
   ],
   "execution_count": 1
  },
  {
   "metadata": {},
   "cell_type": "markdown",
   "source": [
    "📌 **总结**：\n",
    "\n",
    "* `loss`：Tensor，带梯度，累加会“拖着计算图跑”。\n",
    "* `loss.item()`：普通数值，累加安全、轻量，训练日志和统计指标都应该用这个。"
   ],
   "id": "4e42775d68b42a67"
  }
 ],
 "metadata": {
  "kernelspec": {
   "display_name": "Python 3",
   "language": "python",
   "name": "python3"
  },
  "language_info": {
   "codemirror_mode": {
    "name": "ipython",
    "version": 2
   },
   "file_extension": ".py",
   "mimetype": "text/x-python",
   "name": "python",
   "nbconvert_exporter": "python",
   "pygments_lexer": "ipython2",
   "version": "2.7.6"
  }
 },
 "nbformat": 4,
 "nbformat_minor": 5
}
